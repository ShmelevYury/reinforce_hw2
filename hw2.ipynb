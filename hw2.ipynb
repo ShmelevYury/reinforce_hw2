{
 "cells": [
  {
   "cell_type": "code",
   "execution_count": 1,
   "metadata": {},
   "outputs": [],
   "source": [
    "import gym\n",
    "import numpy as np\n",
    "from itertools import product\n",
    "import matplotlib.pyplot as plt\n",
    "\n",
    "from tqdm.notebook import tqdm\n",
    "\n",
    "import copy"
   ]
  },
  {
   "cell_type": "code",
   "execution_count": 2,
   "metadata": {},
   "outputs": [],
   "source": [
    "N_ROWS, N_COLS, N_WIN = 3, 3, 3\n",
    "\n",
    "class QClass:\n",
    "    def __init__(self):\n",
    "        self.Q = {}\n",
    "        \n",
    "    def __getitem__(self, key):\n",
    "        if key not in self.Q:\n",
    "            self.Q[key] = []\n",
    "            for i in key:\n",
    "                if i == '1':\n",
    "                    self.Q[key].append(np.random.random())\n",
    "                else:\n",
    "                    self.Q[key].append(-10)\n",
    "        return self.Q[key]\n",
    "\n",
    "class PI:\n",
    "    def __init__(self, Q, epsilon, alpha, gamma):\n",
    "        self.Q = Q\n",
    "        self.epsilon = epsilon\n",
    "        self.alpha = alpha\n",
    "        self.gamma = gamma\n",
    "        self.last_q = 0\n",
    "        self.last_state = None\n",
    "        self.last_action = None\n",
    "        \n",
    "    def reset_mem(self):\n",
    "        self.last_q = 0\n",
    "        self.last_state = None\n",
    "        self.last_action = None\n",
    "\n",
    "    def getActionGreedy(self, s, n=None):\n",
    "        return np.argmax(self.Q[s])\n",
    "\n",
    "    def get_epsillon_greedy(self, state, possible_moves, action_to_int):\n",
    "        dice = np.random.random()\n",
    "        if (dice > self.epsilon):\n",
    "            action = self.getActionGreedy(state)\n",
    "        else:\n",
    "            index = np.random.randint(0, high=possible_moves.shape[0])\n",
    "            action = action_to_int(possible_moves[index])\n",
    "\n",
    "        self.last_action = action\n",
    "        self.last_state = state\n",
    "        self.last_q = self.Q[self.last_state][self.last_action]\n",
    "\n",
    "        return action\n",
    "\n",
    "    def update_Q(self, reward, state, is_terminal):\n",
    "        if self.last_state is not None:\n",
    "            if is_terminal:\n",
    "                maxQ = 0\n",
    "            else:\n",
    "                maxQ = np.max(self.Q[state])\n",
    "            self.Q[self.last_state][self.last_action] = self.last_q + self.alpha * (\n",
    "                        reward + self.gamma * maxQ - self.last_q)\n",
    "\n",
    "\n",
    "class TicTacToe(gym.Env):\n",
    "    def __init__(self, n_rows=N_ROWS, n_cols=N_COLS, n_win=N_WIN):\n",
    "        self.n_rows = n_rows\n",
    "        self.n_cols = n_cols\n",
    "        self.n_win = n_win\n",
    "\n",
    "        self.board = np.zeros((self.n_rows, self.n_cols), dtype=int)\n",
    "        self.gameOver = False\n",
    "        self.boardHash = None\n",
    "        # ход первого игрока\n",
    "        self.curTurn = 1\n",
    "        self.emptySpaces = None\n",
    "\n",
    "        self.reset()\n",
    "\n",
    "    def getEmptySpaces(self):\n",
    "        if self.emptySpaces is None:\n",
    "            res = np.where(self.board == 0)\n",
    "            self.emptySpaces = np.array([(i, j) for i, j in zip(res[0], res[1])])\n",
    "        return self.emptySpaces\n",
    "\n",
    "    def makeMove(self, player, i, j):\n",
    "        self.board[i, j] = player\n",
    "        self.emptySpaces = None\n",
    "        self.boardHash = None\n",
    "\n",
    "    def getHash(self):\n",
    "        if self.boardHash is None:\n",
    "            self.boardHash = ''.join(['%s' % (x + 1) for x in self.board.reshape(self.n_rows * self.n_cols)])\n",
    "        return self.boardHash\n",
    "\n",
    "    def isTerminal(self):\n",
    "        # проверим, не закончилась ли игра\n",
    "        cur_marks, cur_p = np.where(self.board == self.curTurn), self.curTurn\n",
    "        for i, j in zip(cur_marks[0], cur_marks[1]):\n",
    "            #             print((i,j))\n",
    "            win = False\n",
    "            if i <= self.n_rows - self.n_win:\n",
    "                if np.all(self.board[i:i + self.n_win, j] == cur_p):\n",
    "                    win = True\n",
    "            if not win:\n",
    "                if j <= self.n_cols - self.n_win:\n",
    "                    if np.all(self.board[i, j:j + self.n_win] == cur_p):\n",
    "                        win = True\n",
    "            if not win:\n",
    "                if i <= self.n_rows - self.n_win and j <= self.n_cols - self.n_win:\n",
    "                    if np.all(np.array([self.board[i + k, j + k] == cur_p for k in range(self.n_win)])):\n",
    "                        win = True\n",
    "            if not win:\n",
    "                if i <= self.n_rows - self.n_win and j >= self.n_win - 1:\n",
    "                    if np.all(np.array([self.board[i + k, j - k] == cur_p for k in range(self.n_win)])):\n",
    "                        win = True\n",
    "            if win:\n",
    "                self.gameOver = True\n",
    "                return self.curTurn\n",
    "\n",
    "        if len(self.getEmptySpaces()) == 0:\n",
    "            self.gameOver = True\n",
    "            return 0\n",
    "\n",
    "        self.gameOver = False\n",
    "        return None\n",
    "\n",
    "    def printBoard(self):\n",
    "        for i in range(0, self.n_rows):\n",
    "            print('----' * (self.n_cols) + '-')\n",
    "            out = '| '\n",
    "            for j in range(0, self.n_cols):\n",
    "                if self.board[i, j] == 1:\n",
    "                    token = 'x'\n",
    "                if self.board[i, j] == -1:\n",
    "                    token = 'o'\n",
    "                if self.board[i, j] == 0:\n",
    "                    token = ' '\n",
    "                out += token + ' | '\n",
    "            print(out)\n",
    "        print('----' * (self.n_cols) + '-')\n",
    "\n",
    "    def getState(self):\n",
    "        return (self.getHash(), self.getEmptySpaces(), self.curTurn)\n",
    "\n",
    "    def action_from_int(self, action_int):\n",
    "        return (int(action_int / self.n_cols), int(action_int % self.n_cols))\n",
    "\n",
    "    def int_from_action(self, action):\n",
    "        return action[0] * self.n_cols + action[1]\n",
    "\n",
    "    def step(self, action):\n",
    "        if self.board[action[0], action[1]] != 0:\n",
    "            return self.getState(), -10, True, {}\n",
    "        self.makeMove(self.curTurn, action[0], action[1])\n",
    "        reward = self.isTerminal()\n",
    "        self.curTurn = -self.curTurn\n",
    "        return self.getState(), 0 if reward is None else reward, reward is not None, {}\n",
    "\n",
    "    def reset(self):\n",
    "        self.board = np.zeros((self.n_rows, self.n_cols), dtype=int)\n",
    "        self.boardHash = None\n",
    "        self.gameOver = False\n",
    "        self.emptySpaces = None\n",
    "        self.curTurn = 1\n",
    "\n",
    "    def get_random_Q(self, verbose=False):\n",
    "        Q = {}\n",
    "        iter_object = product('012', repeat=self.n_cols * self.n_rows)\n",
    "        if verbose:\n",
    "            iter_object = tqdm(iter_object, total=int(3 ** (self.n_cols * self.n_rows)))\n",
    "\n",
    "        for s in iter_object:\n",
    "            s = ''.join(s)\n",
    "            Q[s] = []\n",
    "            for i in s:\n",
    "                if i == '1':\n",
    "                    Q[s].append(np.random.random())\n",
    "                else:\n",
    "                    Q[s].append(-10)\n",
    "        return Q\n"
   ]
  },
  {
   "cell_type": "code",
   "execution_count": 3,
   "metadata": {},
   "outputs": [],
   "source": [
    "\n",
    "def Q_learning_episode(env, pi1=None, pi2=None):\n",
    "    assert pi1 != None or pi2 != None\n",
    "\n",
    "    env.reset()\n",
    "    if pi1 is not None:\n",
    "        pi1.reset_mem()\n",
    "    if pi2 is not None:\n",
    "        pi2.reset_mem()\n",
    "    state, possible_moves, cur_turn = env.getState()\n",
    "\n",
    "    done = False\n",
    "    while not done:\n",
    "        if cur_turn == 1:\n",
    "            if pi1 is None:\n",
    "                assert len(possible_moves.shape) > 0\n",
    "                index = np.random.randint(0, high=possible_moves.shape[0])\n",
    "                action = env.int_from_action(possible_moves[index])\n",
    "            else:\n",
    "                action = pi1.get_epsillon_greedy(state, possible_moves, env.int_from_action)\n",
    "        else:\n",
    "            if pi2 is None:\n",
    "                index = np.random.randint(0, high=possible_moves.shape[0])\n",
    "                action = env.int_from_action(possible_moves[index])\n",
    "            else:\n",
    "                action = pi2.get_epsillon_greedy(state, possible_moves, env.int_from_action)\n",
    "\n",
    "        obs, reward, done, info = env.step(env.action_from_int(action))\n",
    "        assert reward != -10\n",
    "        state, possible_moves, next_turn = obs\n",
    "\n",
    "        if not done:\n",
    "            if cur_turn == 1:\n",
    "                if pi2 is not None:\n",
    "                    pi2.update_Q(reward, state, done)\n",
    "            else:\n",
    "                if pi1 is not None:\n",
    "                    pi1.update_Q(reward, state, done)\n",
    "        else:\n",
    "            if pi1 is not None:\n",
    "                pi1.update_Q(reward, state, done)\n",
    "            if pi2 is not None:\n",
    "                pi2.update_Q(-reward, state, done)\n",
    "        cur_turn = next_turn\n",
    "\n",
    "    return reward\n",
    "\n",
    "\n",
    "def play_game(env, pi1=None, pi2=None, verbose=False):\n",
    "    assert pi1 != None or pi2 != None\n",
    "    env.reset()\n",
    "    state, possible_moves, cur_turn = env.getState()\n",
    "\n",
    "    done = False\n",
    "    while not done:\n",
    "        if cur_turn == 1:\n",
    "            if pi1 is None:\n",
    "                index = np.random.randint(0, high=possible_moves.shape[0])\n",
    "                action = env.int_from_action(possible_moves[index])\n",
    "            else:\n",
    "                action = pi1.getActionGreedy(state)\n",
    "        else:\n",
    "            if pi2 is None:\n",
    "                index = np.random.randint(0, high=possible_moves.shape[0])\n",
    "                action = env.int_from_action(possible_moves[index])\n",
    "            else:\n",
    "                action = pi2.getActionGreedy(state)\n",
    "\n",
    "        obs, reward, done, info = env.step(env.action_from_int(action))\n",
    "        state, possible_moves, cur_turn = obs\n",
    "\n",
    "        if verbose:\n",
    "            env.printBoard()\n",
    "            print(env.getHash())\n",
    "\n",
    "        assert reward != -10\n",
    "\n",
    "    return reward\n",
    "\n",
    "\n",
    "def eval_players(env, pi1, pi2, n=10000):\n",
    "    pi1_wins = 0\n",
    "    pi2_wins = 0\n",
    "    draws = 0\n",
    "    for _ in range(n):\n",
    "        reward = play_game(env, pi1, pi2)\n",
    "\n",
    "        if reward == 1:\n",
    "            pi1_wins += 1\n",
    "        elif reward == -1:\n",
    "            pi2_wins += 1\n",
    "        else:\n",
    "            draws += 1\n",
    "\n",
    "    return pi1_wins / n, pi2_wins / n, draws / n\n",
    "\n"
   ]
  },
  {
   "cell_type": "code",
   "execution_count": 8,
   "metadata": {},
   "outputs": [
    {
     "data": {
      "application/vnd.jupyter.widget-view+json": {
       "model_id": "776c5658de8a47aba594a32db069af64",
       "version_major": 2,
       "version_minor": 0
      },
      "text/plain": [
       "HBox(children=(FloatProgress(value=0.0, max=200000.0), HTML(value='')))"
      ]
     },
     "metadata": {},
     "output_type": "display_data"
    },
    {
     "name": "stdout",
     "output_type": "stream",
     "text": [
      "Cur test stat: p1: 0.455, p2: 0.2643, draw: 0.2807\n",
      "Mean train reward: 0.2247\n",
      "Cur test stat: p1: 0.3287, p2: 0.1353, draw: 0.536\n",
      "Mean train reward: 0.2362\n",
      "Cur test stat: p1: 0.1143, p2: 0.024, draw: 0.8617\n",
      "Mean train reward: 0.2126\n",
      "Cur test stat: p1: 0.0393, p2: 0.0122, draw: 0.9485\n",
      "Mean train reward: 0.2099\n",
      "Cur test stat: p1: 0.018, p2: 0.0045, draw: 0.9775\n",
      "Mean train reward: 0.1788\n",
      "Cur test stat: p1: 0.0112, p2: 0.0012, draw: 0.9876\n",
      "Mean train reward: 0.1992\n",
      "Cur test stat: p1: 0.0074, p2: 0.0002, draw: 0.9924\n",
      "Mean train reward: 0.1988\n",
      "Cur test stat: p1: 0.009, p2: 0.0014, draw: 0.9896\n",
      "Mean train reward: 0.1797\n",
      "Cur test stat: p1: 0.0106, p2: 0.0016, draw: 0.9878\n",
      "Mean train reward: 0.2089\n",
      "Cur test stat: p1: 0.0121, p2: 0.0004, draw: 0.9875\n",
      "Mean train reward: 0.1909\n",
      "Cur test stat: p1: 0.0068, p2: 0.001, draw: 0.9922\n",
      "Mean train reward: 0.1867\n",
      "Cur test stat: p1: 0.0029, p2: 0.0004, draw: 0.9967\n",
      "Mean train reward: 0.1821\n",
      "Cur test stat: p1: 0.0107, p2: 0.0, draw: 0.9893\n",
      "Mean train reward: 0.1815\n",
      "Cur test stat: p1: 0.0045, p2: 0.0023, draw: 0.9932\n",
      "Mean train reward: 0.185\n",
      "Cur test stat: p1: 0.0063, p2: 0.002, draw: 0.9917\n",
      "Mean train reward: 0.1747\n",
      "Cur test stat: p1: 0.0045, p2: 0.0033, draw: 0.9922\n",
      "Mean train reward: 0.1748\n",
      "Cur test stat: p1: 0.0049, p2: 0.0035, draw: 0.9916\n",
      "Mean train reward: 0.2063\n",
      "Cur test stat: p1: 0.0063, p2: 0.0003, draw: 0.9934\n",
      "Mean train reward: 0.1803\n",
      "Cur test stat: p1: 0.0055, p2: 0.0003, draw: 0.9942\n",
      "Mean train reward: 0.2026\n",
      "Cur test stat: p1: 0.0127, p2: 0.0003, draw: 0.987\n",
      "Mean train reward: 0.2009\n",
      "\n"
     ]
    }
   ],
   "source": [
    "env = TicTacToe(n_rows=3, n_cols=3, n_win=3)\n",
    "n = 200 * 1000\n",
    "epsillon = 0.3\n",
    "gamma = 0.9\n",
    "alpha = 0.2\n",
    "verbose_rate = 0.05\n",
    "\n",
    "int_Q = QClass()\n",
    "pi1 = PI(copy.deepcopy(int_Q), epsillon, alpha, gamma)\n",
    "pi2 = PI(copy.deepcopy(int_Q), epsillon, alpha, gamma)\n",
    "\n",
    "test_rewards = []\n",
    "train_rewards = []\n",
    "\n",
    "for i in tqdm(range(n)):\n",
    "    reward = Q_learning_episode(env, pi1=pi1, pi2=pi2)\n",
    "    train_rewards.append(reward)\n",
    "    \n",
    "    test_rewards.append(eval_players(env, pi1=pi1, pi2=pi2, n=1))\n",
    "    if i % int(n * verbose_rate) == int(n * verbose_rate) - 1:\n",
    "        cur_stat = np.asarray(test_rewards[-int(n * verbose_rate):]).mean(axis=0)\n",
    "        print(f'Cur test stat: p1: {cur_stat[0]}, p2: {cur_stat[1]}, draw: {cur_stat[2]}', flush=True)\n",
    "        mean_reward = np.asarray(train_rewards[-int(n * verbose_rate):]).mean()\n",
    "        print(f'Mean train reward: {mean_reward}', flush=True)\n"
   ]
  },
  {
   "cell_type": "code",
   "execution_count": 9,
   "metadata": {},
   "outputs": [
    {
     "name": "stdout",
     "output_type": "stream",
     "text": [
      "pi1_score: 0.9956 random_score: 0.0 draw: 0.0044\n"
     ]
    }
   ],
   "source": [
    "pi1_score, random_score, draw = eval_players(env, pi1=pi1, pi2=None, n=10000)\n",
    "print('pi1_score:', pi1_score, 'random_score:', random_score, 'draw:', draw)"
   ]
  },
  {
   "cell_type": "code",
   "execution_count": 10,
   "metadata": {},
   "outputs": [
    {
     "name": "stdout",
     "output_type": "stream",
     "text": [
      "pi2_score: 0.0 random_score: 0.9048 draw: 0.0952\n"
     ]
    }
   ],
   "source": [
    "pi2_score, random_score, draw = eval_players(env, pi1=None, pi2=pi2, n=10000)\n",
    "print('pi2_score:', pi2_score, 'random_score:', random_score, 'draw:', draw)"
   ]
  },
  {
   "cell_type": "code",
   "execution_count": 11,
   "metadata": {},
   "outputs": [],
   "source": [
    "np_test_rewards = np.asarray(test_rewards).reshape(-1, int(n * verbose_rate), 3).mean(axis=1)\n",
    "np_train_rewards = np.asarray(train_rewards).reshape(-1, int(n * verbose_rate)).mean(axis=1)"
   ]
  },
  {
   "cell_type": "code",
   "execution_count": 12,
   "metadata": {},
   "outputs": [
    {
     "data": {
      "image/png": "[encoded data removed]",
      "text/plain": [
       "<Figure size 432x288 with 1 Axes>"
      ]
     },
     "metadata": {
      "needs_background": "light"
     },
     "output_type": "display_data"
    }
   ],
   "source": [
    "plt.plot(np_train_rewards, label='test_rewards')\n",
    "plt.legend()\n",
    "plt.show()"
   ]
  },
  {
   "cell_type": "code",
   "execution_count": 13,
   "metadata": {},
   "outputs": [
    {
     "data": {
      "image/png": "[encoded data removed]",
      "text/plain": [
       "<Figure size 432x288 with 1 Axes>"
      ]
     },
     "metadata": {
      "needs_background": "light"
     },
     "output_type": "display_data"
    }
   ],
   "source": [
    "plt.plot(np_test_rewards[:, 0], label='pi1 winning rate')\n",
    "plt.plot(np_test_rewards[:, 1], label='pi2 winning rate')\n",
    "plt.plot(np_test_rewards[:, 2], label='draw rate')\n",
    "plt.legend()\n",
    "plt.show()"
   ]
  },
  {
   "cell_type": "code",
   "execution_count": 14,
   "metadata": {},
   "outputs": [
    {
     "data": {
      "application/vnd.jupyter.widget-view+json": {
       "model_id": "5feceb5664bf4f279311bf1b6d6bc009",
       "version_major": 2,
       "version_minor": 0
      },
      "text/plain": [
       "HBox(children=(FloatProgress(value=0.0, max=2000000.0), HTML(value='')))"
      ]
     },
     "metadata": {},
     "output_type": "display_data"
    },
    {
     "name": "stdout",
     "output_type": "stream",
     "text": [
      "\n",
      "\n",
      "Cur test stat: p1: 0.31256, p2: 0.25383, draw: 0.43361\n",
      "Mean train reward: 0.05583\n",
      "Cur test stat: p1: 0.31078, p2: 0.24706, draw: 0.44216\n",
      "Mean train reward: 0.06054\n",
      "Cur test stat: p1: 0.30677, p2: 0.24457, draw: 0.44866\n",
      "Mean train reward: 0.06258\n",
      "Cur test stat: p1: 0.30674, p2: 0.23003, draw: 0.46323\n",
      "Mean train reward: 0.07109\n",
      "Cur test stat: p1: 0.30134, p2: 0.22659, draw: 0.47207\n",
      "Mean train reward: 0.08131\n",
      "Cur test stat: p1: 0.30886, p2: 0.22081, draw: 0.47033\n",
      "Mean train reward: 0.08051\n",
      "Cur test stat: p1: 0.30845, p2: 0.21495, draw: 0.4766\n",
      "Mean train reward: 0.08521\n",
      "Cur test stat: p1: 0.30826, p2: 0.22193, draw: 0.46981\n",
      "Mean train reward: 0.08581\n",
      "Cur test stat: p1: 0.31406, p2: 0.20609, draw: 0.47985\n",
      "Mean train reward: 0.09325\n",
      "Cur test stat: p1: 0.30834, p2: 0.22143, draw: 0.47023\n",
      "Mean train reward: 0.09554\n",
      "Cur test stat: p1: 0.29681, p2: 0.21389, draw: 0.4893\n",
      "Mean train reward: 0.09669\n",
      "Cur test stat: p1: 0.30641, p2: 0.20311, draw: 0.49048\n",
      "Mean train reward: 0.10041\n",
      "Cur test stat: p1: 0.31484, p2: 0.20046, draw: 0.4847\n",
      "Mean train reward: 0.1009\n",
      "Cur test stat: p1: 0.30997, p2: 0.19119, draw: 0.49884\n",
      "Mean train reward: 0.10229\n",
      "Cur test stat: p1: 0.30875, p2: 0.20302, draw: 0.48823\n",
      "Mean train reward: 0.10121\n",
      "Cur test stat: p1: 0.30663, p2: 0.194, draw: 0.49937\n",
      "Mean train reward: 0.09769\n",
      "Cur test stat: p1: 0.3047, p2: 0.20098, draw: 0.49432\n",
      "Mean train reward: 0.10291\n",
      "Cur test stat: p1: 0.30204, p2: 0.19559, draw: 0.50237\n",
      "Mean train reward: 0.10528\n",
      "Cur test stat: p1: 0.30887, p2: 0.19145, draw: 0.49968\n",
      "Mean train reward: 0.10272\n",
      "Cur test stat: p1: 0.30579, p2: 0.19259, draw: 0.50162\n",
      "Mean train reward: 0.10645\n",
      "\n"
     ]
    }
   ],
   "source": [
    "env = TicTacToe(n_rows=4, n_cols=4, n_win=4)\n",
    "\n",
    "n = 2000 * 1000\n",
    "epsillon = 0.3\n",
    "gamma = 0.9\n",
    "alpha = 0.2\n",
    "verbose_rate = 0.05\n",
    "\n",
    "int_Q = QClass()\n",
    "pi1 = PI(copy.deepcopy(int_Q), epsillon, alpha, gamma)\n",
    "pi2 = PI(copy.deepcopy(int_Q), epsillon, alpha, gamma)\n",
    "\n",
    "test_rewards = []\n",
    "train_rewards = []\n",
    "\n",
    "for i in tqdm(range(n)):\n",
    "    reward = Q_learning_episode(env, pi1=pi1, pi2=pi2)\n",
    "    train_rewards.append(reward)\n",
    "    \n",
    "    test_rewards.append(eval_players(env, pi1=pi1, pi2=pi2, n=1))\n",
    "    if i % int(n * verbose_rate) == int(n * verbose_rate) - 1:\n",
    "        cur_stat = np.asarray(test_rewards[-int(n * verbose_rate):]).mean(axis=0)\n",
    "        print(f'Cur test stat: p1: {cur_stat[0]}, p2: {cur_stat[1]}, draw: {cur_stat[2]}', flush=True)\n",
    "        mean_reward = np.asarray(train_rewards[-int(n * verbose_rate):]).mean()\n",
    "        print(f'Mean train reward: {mean_reward}', flush=True)\n",
    "\n"
   ]
  },
  {
   "cell_type": "code",
   "execution_count": 19,
   "metadata": {},
   "outputs": [
    {
     "name": "stdout",
     "output_type": "stream",
     "text": [
      "pi1_score: 0.4235 random_score: 0.17345 draw: 0.40305\n"
     ]
    }
   ],
   "source": [
    "pi1_score, random_score, draw = eval_players(env, pi1=pi1, pi2=None, n=40000)\n",
    "print('pi1_score:', pi1_score, 'random_score:', random_score, 'draw:', draw)"
   ]
  },
  {
   "cell_type": "code",
   "execution_count": 18,
   "metadata": {},
   "outputs": [
    {
     "name": "stdout",
     "output_type": "stream",
     "text": [
      "pi2_score: 0.248175 random_score: 0.3223 draw: 0.429525\n"
     ]
    }
   ],
   "source": [
    "pi2_score, random_score, draw = eval_players(env, pi1=None, pi2=pi2, n=40000)\n",
    "print('pi2_score:', pi2_score, 'random_score:', random_score, 'draw:', draw)"
   ]
  },
  {
   "cell_type": "code",
   "execution_count": 15,
   "metadata": {},
   "outputs": [],
   "source": [
    "np_test_rewards = np.asarray(test_rewards).reshape(-1, int(n * verbose_rate), 3).mean(axis=1)\n",
    "np_train_rewards = np.asarray(train_rewards).reshape(-1, int(n * verbose_rate)).mean(axis=1)"
   ]
  },
  {
   "cell_type": "code",
   "execution_count": 20,
   "metadata": {},
   "outputs": [
    {
     "data": {
      "image/png": "[encoded data removed]",
      "text/plain": [
       "<Figure size 432x288 with 1 Axes>"
      ]
     },
     "metadata": {
      "needs_background": "light"
     },
     "output_type": "display_data"
    }
   ],
   "source": [
    "plt.plot(np_train_rewards, label='test_rewards')\n",
    "plt.legend()\n",
    "plt.show()"
   ]
  },
  {
   "cell_type": "code",
   "execution_count": 21,
   "metadata": {},
   "outputs": [
    {
     "data": {
      "image/png": "[encoded data removed]",
      "text/plain": [
       "<Figure size 432x288 with 1 Axes>"
      ]
     },
     "metadata": {
      "needs_background": "light"
     },
     "output_type": "display_data"
    }
   ],
   "source": [
    "plt.plot(np_test_rewards[:, 0], label='pi1 winning rate')\n",
    "plt.plot(np_test_rewards[:, 1], label='pi2 winning rate')\n",
    "plt.plot(np_test_rewards[:, 2], label='draw rate')\n",
    "plt.legend()\n",
    "plt.show()"
   ]
  },
  {
   "cell_type": "markdown",
   "metadata": {},
   "source": [
    "# Часть 2"
   ]
  },
  {
   "cell_type": "code",
   "execution_count": 4,
   "metadata": {},
   "outputs": [],
   "source": [
    "import torch\n",
    "import torch.nn as nn\n",
    "from torch import optim\n",
    "import torch.nn.functional as F\n",
    "from torch.autograd import Variable\n",
    "import random\n",
    "import math"
   ]
  },
  {
   "cell_type": "code",
   "execution_count": 5,
   "metadata": {},
   "outputs": [],
   "source": [
    "class ReplayMemory():\n",
    "    def __init__(self, capacity):\n",
    "        self.capacity = capacity\n",
    "        self.memory = []\n",
    "        self.position = 0\n",
    "\n",
    "    def store(self, exptuple):\n",
    "        if len(self.memory) < self.capacity:\n",
    "            self.memory.append(None)\n",
    "        self.memory[self.position] = exptuple\n",
    "        self.position = (self.position + 1) % self.capacity\n",
    "       \n",
    "    def sample(self, batch_size):\n",
    "        return random.sample(self.memory, batch_size)\n",
    "    \n",
    "    def __len__(self):\n",
    "        return len(self.memory)\n",
    "    \n",
    "class Network(nn.Module):\n",
    "    def __init__(self, layer_size=256):\n",
    "        nn.Module.__init__(self)\n",
    "        self.l1 = nn.Linear(9, layer_size)\n",
    "        self.l2 = nn.Linear(layer_size, 9)\n",
    "\n",
    "    def forward(self, x):\n",
    "        x = F.relu(self.l1(x))\n",
    "        x = self.l2(x)\n",
    "        return x"
   ]
  },
  {
   "cell_type": "code",
   "execution_count": 36,
   "metadata": {},
   "outputs": [],
   "source": [
    "class TicTacToeDQN():\n",
    "    def __init__(self):\n",
    "        self.env = TicTacToe(3, 3, 3)\n",
    "        self.model = Network()\n",
    "        self.memory = ReplayMemory(10000)\n",
    "        \n",
    "        self.optimizer = optim.Adam(self.model.parameters(), 0.001)\n",
    "        self.steps_done = 0\n",
    "        \n",
    "        self.gamma = 0.9\n",
    "        self.batch_size = 64\n",
    "        \n",
    "        self.eps_init, self.eps_final, self.eps_decay = 0.9, 0.05, 200\n",
    "        self.num_step = 0\n",
    "        \n",
    "        self.reset_short_mem()\n",
    "        self.loss_history = []\n",
    "        \n",
    "    def reset_short_mem(self):\n",
    "        self.last_state = None\n",
    "        self.last_action = None\n",
    "        \n",
    "    def select_greedy_action(self, state):\n",
    "#         print('greedy')\n",
    "        int_action = self.model(state).data.max(1)[1].view(1, 1)[0][0]\n",
    "        return torch.tensor(env.action_from_int(int_action))\n",
    "    \n",
    "    def select_action(self, state, possible_moves, save_prev=False):\n",
    "        sample = random.random()\n",
    "        self.num_step += 1\n",
    "        eps_threshold = self.eps_final + (self.eps_init - self.eps_final) * math.exp(-1. * self.num_step / self.eps_decay)\n",
    "        if sample > eps_threshold:\n",
    "            action = self.select_greedy_action(state)\n",
    "        else:\n",
    "            index = np.random.randint(0, high=possible_moves.shape[0])\n",
    "            action = torch.tensor(possible_moves[index], dtype=torch.int64)\n",
    "            \n",
    "        if save_prev:\n",
    "            self.last_state = state.detach().clone()\n",
    "            self.last_action = action.detach().clone()\n",
    "\n",
    "        return action\n",
    "                \n",
    "    def learn(self):\n",
    "        if len(self.memory) < self.batch_size:\n",
    "            return\n",
    "\n",
    "        # берём мини-батч из памяти\n",
    "        transitions = self.memory.sample(self.batch_size)\n",
    "        batch_state, batch_action, batch_next_state, batch_reward, batch_is_done = zip(*transitions)\n",
    "\n",
    "        batch_state = Variable(torch.cat(batch_state))\n",
    "        batch_action = Variable(torch.cat(batch_action))\n",
    "        batch_reward = Variable(torch.cat(batch_reward))\n",
    "        batch_next_state = Variable(torch.cat(batch_next_state))\n",
    "        batch_is_done = Variable(torch.cat(batch_is_done))\n",
    "\n",
    "        # считаем значения функции Q\n",
    "        Q = self.model(batch_state).gather(1, batch_action.unsqueeze(1)).reshape([self.batch_size])\n",
    "        \n",
    "        if (abs(Q) > 1000).any():\n",
    "            print(Q)\n",
    "            assert False\n",
    "\n",
    "        # оцениваем ожидаемые значения после этого действия\n",
    "        Qmax = self.model(batch_next_state).detach().max(1)[0]\n",
    "        Qnext = batch_reward + (self.gamma * Qmax) * (1  - batch_is_done)\n",
    "\n",
    "        # и хотим, чтобы Q было похоже на Qnext -- это и есть суть Q-обучения\n",
    "        loss = F.smooth_l1_loss(Q, Qnext)\n",
    "\n",
    "        self.optimizer.zero_grad()\n",
    "        loss.backward()\n",
    "        self.optimizer.step()\n",
    "        \n",
    "        self.loss_history.append(loss.item())"
   ]
  },
  {
   "cell_type": "code",
   "execution_count": 41,
   "metadata": {},
   "outputs": [],
   "source": [
    "def run_episode(env, cross_model, nought_model, e=0, do_learning=True, greedy=False, render=False, verbose=False):\n",
    "    env.reset()\n",
    "    cross_model.reset_short_mem()\n",
    "    nought_model.reset_short_mem()\n",
    "    hash_state, possible_moves, cur_turn = env.getState()\n",
    "    state = env.board.flatten()\n",
    "    num_step = 0\n",
    "    \n",
    "    done = False\n",
    "    while not done:\n",
    "        if render:\n",
    "            env.printBoard()\n",
    "            \n",
    "        if cur_turn == 1:\n",
    "            cur_model = cross_model\n",
    "            next_model = nought_model\n",
    "        else:\n",
    "            cur_model = nought_model\n",
    "            next_model = cross_model\n",
    "    \n",
    "        state_tensor = torch.tensor([state], dtype=torch.float32)\n",
    "        with torch.no_grad():\n",
    "            if greedy:\n",
    "                action = cur_model.select_greedy_action(state_tensor)\n",
    "            else:\n",
    "                action = cur_model.select_action(state_tensor, possible_moves, save_prev=True)\n",
    "#         print(action)\n",
    "        obs, reward, done, _ = env.step(action.numpy())\n",
    "        state = env.board.flatten()\n",
    "        state_tensor = torch.tensor([state], dtype=torch.float32)\n",
    "\n",
    "        if done:\n",
    "            if reward == -10:\n",
    "                transition = (cur_model.last_state, torch.tensor([env.int_from_action(cur_model.last_action)]), \n",
    "                              state_tensor, torch.tensor([reward], dtype=torch.float32), torch.tensor([done], dtype=int))\n",
    "                cur_model.memory.store(transition)\n",
    "                \n",
    "                if do_learning:\n",
    "                    cur_model.learn()\n",
    "            else:\n",
    "                cross_model.memory.store((cross_model.last_state, torch.tensor([env.int_from_action(cross_model.last_action)]), \n",
    "                                          state_tensor, torch.tensor([reward], dtype=torch.float32), torch.tensor([done], dtype=int)))\n",
    "                nought_model.memory.store((nought_model.last_state, torch.tensor([env.int_from_action(nought_model.last_action)]), \n",
    "                                           state_tensor, torch.tensor([-reward], dtype=torch.float32), torch.tensor([done], dtype=int)))\n",
    "\n",
    "                if do_learning:\n",
    "                    cross_model.learn()\n",
    "                    nought_model.learn()\n",
    "        elif next_model.last_state is not None:\n",
    "            transition = (next_model.last_state, torch.tensor([env.int_from_action(next_model.last_action)]), \n",
    "                          state_tensor, torch.tensor([reward], dtype=torch.float32), torch.tensor([done], dtype=int))\n",
    "            next_model.memory.store(transition)\n",
    "            \n",
    "            if do_learning:\n",
    "                next_model.learn()\n",
    "\n",
    "\n",
    "        hash_state, possible_moves, cur_turn = obs\n",
    "        num_step += 1\n"
   ]
  },
  {
   "cell_type": "code",
   "execution_count": 38,
   "metadata": {},
   "outputs": [],
   "source": [
    "def test_vs_random(env, model, player, n_tests=10000):\n",
    "    wins = 0\n",
    "    losses = 0\n",
    "    draws = 0\n",
    "    errors = 0\n",
    "    for _ in range(n_tests):\n",
    "        env.reset()\n",
    "        hash_state, possible_moves, cur_turn = env.getState()\n",
    "        state = env.board.flatten()\n",
    "        done = False\n",
    "        \n",
    "        while not done:\n",
    "            state_tensor = torch.tensor([state], dtype=torch.float32)\n",
    "            if cur_turn == player:\n",
    "                with torch.no_grad():\n",
    "#                     print(state_tensor)\n",
    "#                     print(model.model(state_tensor).data)\n",
    "                    action = model.select_greedy_action(state_tensor)\n",
    "            else:\n",
    "                index = np.random.randint(0, high=possible_moves.shape[0])\n",
    "                action = torch.tensor(possible_moves[index], dtype=torch.int64)\n",
    "            obs, reward, done, _ = env.step(action.numpy())\n",
    "            hash_state, possible_moves, cur_turn = obs\n",
    "            state = env.board.flatten()\n",
    "            \n",
    "        if reward == player:\n",
    "            wins +=1\n",
    "        elif reward == -player:\n",
    "            losses += 1\n",
    "        elif reward == 0:\n",
    "            draws += 1\n",
    "        else:\n",
    "            errors += 1\n",
    "        \n",
    "    return wins / n_tests, losses / n_tests, draws / n_tests, errors / n_tests"
   ]
  },
  {
   "cell_type": "code",
   "execution_count": 39,
   "metadata": {},
   "outputs": [],
   "source": [
    "model1, model2 = TicTacToeDQN(), TicTacToeDQN()\n",
    "env = model1.env"
   ]
  },
  {
   "cell_type": "code",
   "execution_count": 44,
   "metadata": {},
   "outputs": [
    {
     "data": {
      "application/vnd.jupyter.widget-view+json": {
       "model_id": "433a50ce88a443748f85f93198d9a375",
       "version_major": 2,
       "version_minor": 0
      },
      "text/plain": [
       "HBox(children=(FloatProgress(value=0.0, max=12000.0), HTML(value='')))"
      ]
     },
     "metadata": {},
     "output_type": "display_data"
    },
    {
     "name": "stdout",
     "output_type": "stream",
     "text": [
      "0.03412587304289142\n",
      "Win rate: 0.94, Lose rate: 0.03, Draw rate: 0.03, Error rate 0.0\n",
      "0.03184718045250823\n",
      "Win rate: 0.93, Lose rate: 0.0, Draw rate: 0.07, Error rate 0.0\n",
      "0.02663952225043128\n",
      "Win rate: 0.99, Lose rate: 0.0, Draw rate: 0.01, Error rate 0.0\n",
      "0.02461785699163253\n",
      "Win rate: 0.99, Lose rate: 0.0, Draw rate: 0.01, Error rate 0.0\n",
      "0.02500040303915739\n",
      "Win rate: 0.98, Lose rate: 0.0, Draw rate: 0.02, Error rate 0.0\n",
      "0.022417480091098695\n",
      "Win rate: 0.99, Lose rate: 0.0, Draw rate: 0.01, Error rate 0.0\n",
      "0.01931431856472045\n",
      "Win rate: 0.98, Lose rate: 0.0, Draw rate: 0.02, Error rate 0.0\n",
      "0.017591773097325736\n",
      "Win rate: 1.0, Lose rate: 0.0, Draw rate: 0.0, Error rate 0.0\n",
      "0.014750567547356088\n",
      "Win rate: 0.92, Lose rate: 0.03, Draw rate: 0.05, Error rate 0.0\n",
      "0.014447452555177733\n",
      "Win rate: 0.98, Lose rate: 0.0, Draw rate: 0.02, Error rate 0.0\n",
      "0.016486984881339595\n",
      "Win rate: 0.87, Lose rate: 0.0, Draw rate: 0.13, Error rate 0.0\n",
      "0.02050777373602614\n",
      "Win rate: 0.91, Lose rate: 0.02, Draw rate: 0.07, Error rate 0.0\n",
      "0.02014746759009237\n",
      "Win rate: 0.92, Lose rate: 0.0, Draw rate: 0.08, Error rate 0.0\n",
      "0.017399593964995196\n",
      "Win rate: 0.94, Lose rate: 0.0, Draw rate: 0.06, Error rate 0.0\n",
      "0.015449944845944022\n",
      "Win rate: 1.0, Lose rate: 0.0, Draw rate: 0.0, Error rate 0.0\n",
      "0.017547428985126318\n",
      "Win rate: 0.99, Lose rate: 0.0, Draw rate: 0.01, Error rate 0.0\n",
      "0.016175061454220364\n",
      "Win rate: 0.98, Lose rate: 0.0, Draw rate: 0.02, Error rate 0.0\n",
      "0.015441295793280005\n",
      "Win rate: 0.98, Lose rate: 0.0, Draw rate: 0.01, Error rate 0.01\n",
      "0.01557577680873995\n",
      "Win rate: 0.96, Lose rate: 0.0, Draw rate: 0.04, Error rate 0.0\n",
      "0.014750682074809446\n",
      "Win rate: 0.98, Lose rate: 0.0, Draw rate: 0.02, Error rate 0.0\n",
      "\n"
     ]
    }
   ],
   "source": [
    "verbose_rate = 0.05\n",
    "n = 12000\n",
    "cycle_length = int(verbose_rate * n)\n",
    "\n",
    "for e in tqdm(range(n)):\n",
    "    run_episode(env, model1, model2, e=e)\n",
    "    if e % cycle_length == cycle_length - 1:\n",
    "        print(np.mean(model1.loss_history[-cycle_length:]))\n",
    "        stata = test_vs_random(env, model1, player=1, n_tests=100)\n",
    "        print(f'Win rate: {stata[0]}, Lose rate: {stata[1]}, Draw rate: {stata[2]}, Error rate {stata[3]}')"
   ]
  },
  {
   "cell_type": "code",
   "execution_count": 45,
   "metadata": {},
   "outputs": [
    {
     "data": {
      "image/png": "[encoded data removed]",
      "text/plain": [
       "<Figure size 432x288 with 1 Axes>"
      ]
     },
     "metadata": {
      "needs_background": "light"
     },
     "output_type": "display_data"
    }
   ],
   "source": [
    "plt.plot(np.asarray(model1.loss_history))\n",
    "plt.show()"
   ]
  },
  {
   "cell_type": "code",
   "execution_count": 46,
   "metadata": {},
   "outputs": [
    {
     "name": "stdout",
     "output_type": "stream",
     "text": [
      "Win rate: 0.9854, Lose rate: 0.0, Draw rate: 0.0126, Error rate 0.002\n"
     ]
    }
   ],
   "source": [
    "stata = test_vs_random(env, model1, player=1, n_tests=10000)\n",
    "print(f'Win rate: {stata[0]}, Lose rate: {stata[1]}, Draw rate: {stata[2]}, Error rate {stata[3]}')"
   ]
  },
  {
   "cell_type": "code",
   "execution_count": 47,
   "metadata": {},
   "outputs": [
    {
     "data": {
      "image/png": "[encoded data removed]",
      "text/plain": [
       "<Figure size 432x288 with 1 Axes>"
      ]
     },
     "metadata": {
      "needs_background": "light"
     },
     "output_type": "display_data"
    }
   ],
   "source": [
    "plt.plot(np.asarray(model2.loss_history))\n",
    "plt.show()"
   ]
  },
  {
   "cell_type": "code",
   "execution_count": 48,
   "metadata": {},
   "outputs": [
    {
     "name": "stdout",
     "output_type": "stream",
     "text": [
      "Win rate: 0.8536, Lose rate: 0.0059, Draw rate: 0.1405, Error rate 0.0\n"
     ]
    }
   ],
   "source": [
    "stata = test_vs_random(env, model2, player=-1, n_tests=10000)\n",
    "print(f'Win rate: {stata[0]}, Lose rate: {stata[1]}, Draw rate: {stata[2]}, Error rate {stata[3]}')"
   ]
  },
  {
   "cell_type": "code",
   "execution_count": null,
   "metadata": {},
   "outputs": [],
   "source": []
  }
 ],
 "metadata": {
  "kernelspec": {
   "display_name": "Python 3",
   "language": "python",
   "name": "python3"
  },
  "language_info": {
   "codemirror_mode": {
    "name": "ipython",
    "version": 3
   },
   "file_extension": ".py",
   "mimetype": "text/x-python",
   "name": "python",
   "nbconvert_exporter": "python",
   "pygments_lexer": "ipython3",
   "version": "3.7.6"
  }
 },
 "nbformat": 4,
 "nbformat_minor": 4
}
